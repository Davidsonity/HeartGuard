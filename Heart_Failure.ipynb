{
 "cells": [
  {
   "cell_type": "markdown",
   "id": "bf946d95-0471-442a-b4af-c07c9cc5c0d2",
   "metadata": {
    "tags": []
   },
   "source": [
    "# **Heart Failure Prediction using Supervised ML approach**\n",
    "### **INTRODUCTION**\n",
    "#### **Objectives**\n",
    "The objective of this project is to use Machine learning to predict Heart Failure of a patient.\n",
    "\n",
    "#### **About Dataset**\n",
    "This dataset contains the medical records of 299 patients who had heart failure, collected during their follow-up period, where each patient profile has 13 clinical features. \n",
    "\n",
    "**Data Source:** http://archive.ics.uci.edu/ml/datasets/Heart+failure+clinical+records\n",
    "\n",
    "**Attribute Information:**\n",
    "Thirteen (13) clinical features:\n",
    "- age: age of the patient (years)\n",
    "- anaemia: decrease of red blood cells or hemoglobin (boolean)\n",
    "- high blood pressure: if the patient has hypertension (boolean)\n",
    "- creatinine phosphokinase (CPK): level of the CPK enzyme in the blood (mcg/L)\n",
    "- diabetes: if the patient has diabetes (boolean)\n",
    "- ejection fraction: percentage of blood leaving the heart at each contraction (percentage)\n",
    "- platelets: platelets in the blood (kiloplatelets/mL)\n",
    "- sex: woman or man (binary)\n",
    "- serum creatinine: level of serum creatinine in the blood (mg/dL)\n",
    "- serum sodium: level of serum sodium in the blood (mEq/L)\n",
    "- smoking: if the patient smokes or not (boolean)\n",
    "- time: follow-up period (days)\n",
    "- death event: if the patient deceased during the follow-up period (boolean)"
   ]
  },
  {
   "cell_type": "markdown",
   "id": "cbf73d14-ed1e-42e1-ac83-bb70fa63b51d",
   "metadata": {},
   "source": [
    "### Preliminary Wrangling"
   ]
  },
  {
   "cell_type": "code",
   "execution_count": 1,
   "id": "a235c5a6-e476-4a91-b27a-bc89878bbaa9",
   "metadata": {},
   "outputs": [],
   "source": [
    "import pandas as pd\n",
    "import numpy as np\n",
    "import matplotlib.pyplot as plt\n",
    "import seaborn as sns\n",
    "import warnings\n",
    "warnings.filterwarnings('ignore')\n",
    "\n",
    "sns.set(font_scale = 1.3)\n",
    "%matplotlib inline"
   ]
  },
  {
   "cell_type": "code",
   "execution_count": 2,
   "id": "55e01089-2f8f-4422-b921-43861ab9ec62",
   "metadata": {},
   "outputs": [
    {
     "data": {
      "text/html": [
       "<div>\n",
       "<style scoped>\n",
       "    .dataframe tbody tr th:only-of-type {\n",
       "        vertical-align: middle;\n",
       "    }\n",
       "\n",
       "    .dataframe tbody tr th {\n",
       "        vertical-align: top;\n",
       "    }\n",
       "\n",
       "    .dataframe thead th {\n",
       "        text-align: right;\n",
       "    }\n",
       "</style>\n",
       "<table border=\"1\" class=\"dataframe\">\n",
       "  <thead>\n",
       "    <tr style=\"text-align: right;\">\n",
       "      <th></th>\n",
       "      <th>age</th>\n",
       "      <th>anaemia</th>\n",
       "      <th>creatinine_phosphokinase</th>\n",
       "      <th>diabetes</th>\n",
       "      <th>ejection_fraction</th>\n",
       "      <th>high_blood_pressure</th>\n",
       "      <th>platelets</th>\n",
       "      <th>serum_creatinine</th>\n",
       "      <th>serum_sodium</th>\n",
       "      <th>sex</th>\n",
       "      <th>smoking</th>\n",
       "      <th>time</th>\n",
       "      <th>DEATH_EVENT</th>\n",
       "    </tr>\n",
       "  </thead>\n",
       "  <tbody>\n",
       "    <tr>\n",
       "      <th>0</th>\n",
       "      <td>75.0</td>\n",
       "      <td>0</td>\n",
       "      <td>582</td>\n",
       "      <td>0</td>\n",
       "      <td>20</td>\n",
       "      <td>1</td>\n",
       "      <td>265000.00</td>\n",
       "      <td>1.9</td>\n",
       "      <td>130</td>\n",
       "      <td>1</td>\n",
       "      <td>0</td>\n",
       "      <td>4</td>\n",
       "      <td>1</td>\n",
       "    </tr>\n",
       "    <tr>\n",
       "      <th>1</th>\n",
       "      <td>55.0</td>\n",
       "      <td>0</td>\n",
       "      <td>7861</td>\n",
       "      <td>0</td>\n",
       "      <td>38</td>\n",
       "      <td>0</td>\n",
       "      <td>263358.03</td>\n",
       "      <td>1.1</td>\n",
       "      <td>136</td>\n",
       "      <td>1</td>\n",
       "      <td>0</td>\n",
       "      <td>6</td>\n",
       "      <td>1</td>\n",
       "    </tr>\n",
       "    <tr>\n",
       "      <th>2</th>\n",
       "      <td>65.0</td>\n",
       "      <td>0</td>\n",
       "      <td>146</td>\n",
       "      <td>0</td>\n",
       "      <td>20</td>\n",
       "      <td>0</td>\n",
       "      <td>162000.00</td>\n",
       "      <td>1.3</td>\n",
       "      <td>129</td>\n",
       "      <td>1</td>\n",
       "      <td>1</td>\n",
       "      <td>7</td>\n",
       "      <td>1</td>\n",
       "    </tr>\n",
       "    <tr>\n",
       "      <th>3</th>\n",
       "      <td>50.0</td>\n",
       "      <td>1</td>\n",
       "      <td>111</td>\n",
       "      <td>0</td>\n",
       "      <td>20</td>\n",
       "      <td>0</td>\n",
       "      <td>210000.00</td>\n",
       "      <td>1.9</td>\n",
       "      <td>137</td>\n",
       "      <td>1</td>\n",
       "      <td>0</td>\n",
       "      <td>7</td>\n",
       "      <td>1</td>\n",
       "    </tr>\n",
       "    <tr>\n",
       "      <th>4</th>\n",
       "      <td>65.0</td>\n",
       "      <td>1</td>\n",
       "      <td>160</td>\n",
       "      <td>1</td>\n",
       "      <td>20</td>\n",
       "      <td>0</td>\n",
       "      <td>327000.00</td>\n",
       "      <td>2.7</td>\n",
       "      <td>116</td>\n",
       "      <td>0</td>\n",
       "      <td>0</td>\n",
       "      <td>8</td>\n",
       "      <td>1</td>\n",
       "    </tr>\n",
       "    <tr>\n",
       "      <th>...</th>\n",
       "      <td>...</td>\n",
       "      <td>...</td>\n",
       "      <td>...</td>\n",
       "      <td>...</td>\n",
       "      <td>...</td>\n",
       "      <td>...</td>\n",
       "      <td>...</td>\n",
       "      <td>...</td>\n",
       "      <td>...</td>\n",
       "      <td>...</td>\n",
       "      <td>...</td>\n",
       "      <td>...</td>\n",
       "      <td>...</td>\n",
       "    </tr>\n",
       "    <tr>\n",
       "      <th>294</th>\n",
       "      <td>62.0</td>\n",
       "      <td>0</td>\n",
       "      <td>61</td>\n",
       "      <td>1</td>\n",
       "      <td>38</td>\n",
       "      <td>1</td>\n",
       "      <td>155000.00</td>\n",
       "      <td>1.1</td>\n",
       "      <td>143</td>\n",
       "      <td>1</td>\n",
       "      <td>1</td>\n",
       "      <td>270</td>\n",
       "      <td>0</td>\n",
       "    </tr>\n",
       "    <tr>\n",
       "      <th>295</th>\n",
       "      <td>55.0</td>\n",
       "      <td>0</td>\n",
       "      <td>1820</td>\n",
       "      <td>0</td>\n",
       "      <td>38</td>\n",
       "      <td>0</td>\n",
       "      <td>270000.00</td>\n",
       "      <td>1.2</td>\n",
       "      <td>139</td>\n",
       "      <td>0</td>\n",
       "      <td>0</td>\n",
       "      <td>271</td>\n",
       "      <td>0</td>\n",
       "    </tr>\n",
       "    <tr>\n",
       "      <th>296</th>\n",
       "      <td>45.0</td>\n",
       "      <td>0</td>\n",
       "      <td>2060</td>\n",
       "      <td>1</td>\n",
       "      <td>60</td>\n",
       "      <td>0</td>\n",
       "      <td>742000.00</td>\n",
       "      <td>0.8</td>\n",
       "      <td>138</td>\n",
       "      <td>0</td>\n",
       "      <td>0</td>\n",
       "      <td>278</td>\n",
       "      <td>0</td>\n",
       "    </tr>\n",
       "    <tr>\n",
       "      <th>297</th>\n",
       "      <td>45.0</td>\n",
       "      <td>0</td>\n",
       "      <td>2413</td>\n",
       "      <td>0</td>\n",
       "      <td>38</td>\n",
       "      <td>0</td>\n",
       "      <td>140000.00</td>\n",
       "      <td>1.4</td>\n",
       "      <td>140</td>\n",
       "      <td>1</td>\n",
       "      <td>1</td>\n",
       "      <td>280</td>\n",
       "      <td>0</td>\n",
       "    </tr>\n",
       "    <tr>\n",
       "      <th>298</th>\n",
       "      <td>50.0</td>\n",
       "      <td>0</td>\n",
       "      <td>196</td>\n",
       "      <td>0</td>\n",
       "      <td>45</td>\n",
       "      <td>0</td>\n",
       "      <td>395000.00</td>\n",
       "      <td>1.6</td>\n",
       "      <td>136</td>\n",
       "      <td>1</td>\n",
       "      <td>1</td>\n",
       "      <td>285</td>\n",
       "      <td>0</td>\n",
       "    </tr>\n",
       "  </tbody>\n",
       "</table>\n",
       "<p>299 rows × 13 columns</p>\n",
       "</div>"
      ],
      "text/plain": [
       "      age  anaemia  creatinine_phosphokinase  diabetes  ejection_fraction  \\\n",
       "0    75.0        0                       582         0                 20   \n",
       "1    55.0        0                      7861         0                 38   \n",
       "2    65.0        0                       146         0                 20   \n",
       "3    50.0        1                       111         0                 20   \n",
       "4    65.0        1                       160         1                 20   \n",
       "..    ...      ...                       ...       ...                ...   \n",
       "294  62.0        0                        61         1                 38   \n",
       "295  55.0        0                      1820         0                 38   \n",
       "296  45.0        0                      2060         1                 60   \n",
       "297  45.0        0                      2413         0                 38   \n",
       "298  50.0        0                       196         0                 45   \n",
       "\n",
       "     high_blood_pressure  platelets  serum_creatinine  serum_sodium  sex  \\\n",
       "0                      1  265000.00               1.9           130    1   \n",
       "1                      0  263358.03               1.1           136    1   \n",
       "2                      0  162000.00               1.3           129    1   \n",
       "3                      0  210000.00               1.9           137    1   \n",
       "4                      0  327000.00               2.7           116    0   \n",
       "..                   ...        ...               ...           ...  ...   \n",
       "294                    1  155000.00               1.1           143    1   \n",
       "295                    0  270000.00               1.2           139    0   \n",
       "296                    0  742000.00               0.8           138    0   \n",
       "297                    0  140000.00               1.4           140    1   \n",
       "298                    0  395000.00               1.6           136    1   \n",
       "\n",
       "     smoking  time  DEATH_EVENT  \n",
       "0          0     4            1  \n",
       "1          0     6            1  \n",
       "2          1     7            1  \n",
       "3          0     7            1  \n",
       "4          0     8            1  \n",
       "..       ...   ...          ...  \n",
       "294        1   270            0  \n",
       "295        0   271            0  \n",
       "296        0   278            0  \n",
       "297        1   280            0  \n",
       "298        1   285            0  \n",
       "\n",
       "[299 rows x 13 columns]"
      ]
     },
     "execution_count": 2,
     "metadata": {},
     "output_type": "execute_result"
    }
   ],
   "source": [
    "df = pd.read_csv('heart_failure_clinical_records_dataset.csv')\n",
    "df"
   ]
  },
  {
   "cell_type": "markdown",
   "id": "82f3e87c-6cf3-4644-bd75-7ff97c4e33d8",
   "metadata": {},
   "source": [
    "## **Exploratory Data Analysis**\n",
    "> Here we would explore the dataset for insights and also check if the dataset requires cleaning."
   ]
  },
  {
   "cell_type": "markdown",
   "id": "1d1eea27-b1f1-498d-8d79-5641b579f0e9",
   "metadata": {},
   "source": [
    "### Visualizing Numerical Columns"
   ]
  },
  {
   "cell_type": "code",
   "execution_count": 3,
   "id": "d4fb7223-e63a-480d-8c80-8cf1b2972f88",
   "metadata": {},
   "outputs": [
    {
     "name": "stdout",
     "output_type": "stream",
     "text": [
      "<class 'pandas.core.frame.DataFrame'>\n",
      "RangeIndex: 299 entries, 0 to 298\n",
      "Data columns (total 13 columns):\n",
      " #   Column                    Non-Null Count  Dtype  \n",
      "---  ------                    --------------  -----  \n",
      " 0   age                       299 non-null    float64\n",
      " 1   anaemia                   299 non-null    int64  \n",
      " 2   creatinine_phosphokinase  299 non-null    int64  \n",
      " 3   diabetes                  299 non-null    int64  \n",
      " 4   ejection_fraction         299 non-null    int64  \n",
      " 5   high_blood_pressure       299 non-null    int64  \n",
      " 6   platelets                 299 non-null    float64\n",
      " 7   serum_creatinine          299 non-null    float64\n",
      " 8   serum_sodium              299 non-null    int64  \n",
      " 9   sex                       299 non-null    int64  \n",
      " 10  smoking                   299 non-null    int64  \n",
      " 11  time                      299 non-null    int64  \n",
      " 12  DEATH_EVENT               299 non-null    int64  \n",
      "dtypes: float64(3), int64(10)\n",
      "memory usage: 30.5 KB\n"
     ]
    }
   ],
   "source": [
    "df.info()"
   ]
  },
  {
   "cell_type": "code",
   "execution_count": 4,
   "id": "339bda5c-98ac-42dd-869e-1c11b593ab4c",
   "metadata": {},
   "outputs": [
    {
     "data": {
      "text/html": [
       "<div>\n",
       "<style scoped>\n",
       "    .dataframe tbody tr th:only-of-type {\n",
       "        vertical-align: middle;\n",
       "    }\n",
       "\n",
       "    .dataframe tbody tr th {\n",
       "        vertical-align: top;\n",
       "    }\n",
       "\n",
       "    .dataframe thead th {\n",
       "        text-align: right;\n",
       "    }\n",
       "</style>\n",
       "<table border=\"1\" class=\"dataframe\">\n",
       "  <thead>\n",
       "    <tr style=\"text-align: right;\">\n",
       "      <th></th>\n",
       "      <th>age</th>\n",
       "      <th>anaemia</th>\n",
       "      <th>creatinine_phosphokinase</th>\n",
       "      <th>diabetes</th>\n",
       "      <th>ejection_fraction</th>\n",
       "      <th>high_blood_pressure</th>\n",
       "      <th>platelets</th>\n",
       "      <th>serum_creatinine</th>\n",
       "      <th>serum_sodium</th>\n",
       "      <th>sex</th>\n",
       "      <th>smoking</th>\n",
       "      <th>time</th>\n",
       "      <th>DEATH_EVENT</th>\n",
       "    </tr>\n",
       "  </thead>\n",
       "  <tbody>\n",
       "    <tr>\n",
       "      <th>count</th>\n",
       "      <td>299.000000</td>\n",
       "      <td>299.000000</td>\n",
       "      <td>299.000000</td>\n",
       "      <td>299.000000</td>\n",
       "      <td>299.000000</td>\n",
       "      <td>299.000000</td>\n",
       "      <td>299.000000</td>\n",
       "      <td>299.00000</td>\n",
       "      <td>299.000000</td>\n",
       "      <td>299.000000</td>\n",
       "      <td>299.00000</td>\n",
       "      <td>299.000000</td>\n",
       "      <td>299.00000</td>\n",
       "    </tr>\n",
       "    <tr>\n",
       "      <th>mean</th>\n",
       "      <td>60.833893</td>\n",
       "      <td>0.431438</td>\n",
       "      <td>581.839465</td>\n",
       "      <td>0.418060</td>\n",
       "      <td>38.083612</td>\n",
       "      <td>0.351171</td>\n",
       "      <td>263358.029264</td>\n",
       "      <td>1.39388</td>\n",
       "      <td>136.625418</td>\n",
       "      <td>0.648829</td>\n",
       "      <td>0.32107</td>\n",
       "      <td>130.260870</td>\n",
       "      <td>0.32107</td>\n",
       "    </tr>\n",
       "    <tr>\n",
       "      <th>std</th>\n",
       "      <td>11.894809</td>\n",
       "      <td>0.496107</td>\n",
       "      <td>970.287881</td>\n",
       "      <td>0.494067</td>\n",
       "      <td>11.834841</td>\n",
       "      <td>0.478136</td>\n",
       "      <td>97804.236869</td>\n",
       "      <td>1.03451</td>\n",
       "      <td>4.412477</td>\n",
       "      <td>0.478136</td>\n",
       "      <td>0.46767</td>\n",
       "      <td>77.614208</td>\n",
       "      <td>0.46767</td>\n",
       "    </tr>\n",
       "    <tr>\n",
       "      <th>min</th>\n",
       "      <td>40.000000</td>\n",
       "      <td>0.000000</td>\n",
       "      <td>23.000000</td>\n",
       "      <td>0.000000</td>\n",
       "      <td>14.000000</td>\n",
       "      <td>0.000000</td>\n",
       "      <td>25100.000000</td>\n",
       "      <td>0.50000</td>\n",
       "      <td>113.000000</td>\n",
       "      <td>0.000000</td>\n",
       "      <td>0.00000</td>\n",
       "      <td>4.000000</td>\n",
       "      <td>0.00000</td>\n",
       "    </tr>\n",
       "    <tr>\n",
       "      <th>25%</th>\n",
       "      <td>51.000000</td>\n",
       "      <td>0.000000</td>\n",
       "      <td>116.500000</td>\n",
       "      <td>0.000000</td>\n",
       "      <td>30.000000</td>\n",
       "      <td>0.000000</td>\n",
       "      <td>212500.000000</td>\n",
       "      <td>0.90000</td>\n",
       "      <td>134.000000</td>\n",
       "      <td>0.000000</td>\n",
       "      <td>0.00000</td>\n",
       "      <td>73.000000</td>\n",
       "      <td>0.00000</td>\n",
       "    </tr>\n",
       "    <tr>\n",
       "      <th>50%</th>\n",
       "      <td>60.000000</td>\n",
       "      <td>0.000000</td>\n",
       "      <td>250.000000</td>\n",
       "      <td>0.000000</td>\n",
       "      <td>38.000000</td>\n",
       "      <td>0.000000</td>\n",
       "      <td>262000.000000</td>\n",
       "      <td>1.10000</td>\n",
       "      <td>137.000000</td>\n",
       "      <td>1.000000</td>\n",
       "      <td>0.00000</td>\n",
       "      <td>115.000000</td>\n",
       "      <td>0.00000</td>\n",
       "    </tr>\n",
       "    <tr>\n",
       "      <th>75%</th>\n",
       "      <td>70.000000</td>\n",
       "      <td>1.000000</td>\n",
       "      <td>582.000000</td>\n",
       "      <td>1.000000</td>\n",
       "      <td>45.000000</td>\n",
       "      <td>1.000000</td>\n",
       "      <td>303500.000000</td>\n",
       "      <td>1.40000</td>\n",
       "      <td>140.000000</td>\n",
       "      <td>1.000000</td>\n",
       "      <td>1.00000</td>\n",
       "      <td>203.000000</td>\n",
       "      <td>1.00000</td>\n",
       "    </tr>\n",
       "    <tr>\n",
       "      <th>max</th>\n",
       "      <td>95.000000</td>\n",
       "      <td>1.000000</td>\n",
       "      <td>7861.000000</td>\n",
       "      <td>1.000000</td>\n",
       "      <td>80.000000</td>\n",
       "      <td>1.000000</td>\n",
       "      <td>850000.000000</td>\n",
       "      <td>9.40000</td>\n",
       "      <td>148.000000</td>\n",
       "      <td>1.000000</td>\n",
       "      <td>1.00000</td>\n",
       "      <td>285.000000</td>\n",
       "      <td>1.00000</td>\n",
       "    </tr>\n",
       "  </tbody>\n",
       "</table>\n",
       "</div>"
      ],
      "text/plain": [
       "              age     anaemia  creatinine_phosphokinase    diabetes  \\\n",
       "count  299.000000  299.000000                299.000000  299.000000   \n",
       "mean    60.833893    0.431438                581.839465    0.418060   \n",
       "std     11.894809    0.496107                970.287881    0.494067   \n",
       "min     40.000000    0.000000                 23.000000    0.000000   \n",
       "25%     51.000000    0.000000                116.500000    0.000000   \n",
       "50%     60.000000    0.000000                250.000000    0.000000   \n",
       "75%     70.000000    1.000000                582.000000    1.000000   \n",
       "max     95.000000    1.000000               7861.000000    1.000000   \n",
       "\n",
       "       ejection_fraction  high_blood_pressure      platelets  \\\n",
       "count         299.000000           299.000000     299.000000   \n",
       "mean           38.083612             0.351171  263358.029264   \n",
       "std            11.834841             0.478136   97804.236869   \n",
       "min            14.000000             0.000000   25100.000000   \n",
       "25%            30.000000             0.000000  212500.000000   \n",
       "50%            38.000000             0.000000  262000.000000   \n",
       "75%            45.000000             1.000000  303500.000000   \n",
       "max            80.000000             1.000000  850000.000000   \n",
       "\n",
       "       serum_creatinine  serum_sodium         sex    smoking        time  \\\n",
       "count         299.00000    299.000000  299.000000  299.00000  299.000000   \n",
       "mean            1.39388    136.625418    0.648829    0.32107  130.260870   \n",
       "std             1.03451      4.412477    0.478136    0.46767   77.614208   \n",
       "min             0.50000    113.000000    0.000000    0.00000    4.000000   \n",
       "25%             0.90000    134.000000    0.000000    0.00000   73.000000   \n",
       "50%             1.10000    137.000000    1.000000    0.00000  115.000000   \n",
       "75%             1.40000    140.000000    1.000000    1.00000  203.000000   \n",
       "max             9.40000    148.000000    1.000000    1.00000  285.000000   \n",
       "\n",
       "       DEATH_EVENT  \n",
       "count    299.00000  \n",
       "mean       0.32107  \n",
       "std        0.46767  \n",
       "min        0.00000  \n",
       "25%        0.00000  \n",
       "50%        0.00000  \n",
       "75%        1.00000  \n",
       "max        1.00000  "
      ]
     },
     "execution_count": 4,
     "metadata": {},
     "output_type": "execute_result"
    }
   ],
   "source": [
    "df.describe()"
   ]
  },
  {
   "cell_type": "code",
   "execution_count": 5,
   "id": "1061cf8e-6734-4dc6-a3c0-5d192b5b62f3",
   "metadata": {},
   "outputs": [
    {
     "data": {
      "image/png": "[encoded data removed]",
      "text/plain": [
       "<Figure size 1080x1080 with 12 Axes>"
      ]
     },
     "metadata": {},
     "output_type": "display_data"
    }
   ],
   "source": [
    "sns.set(font_scale = 1.3)\n",
    "df.drop('DEATH_EVENT', axis=1).hist(figsize = (15, 15));"
   ]
  },
  {
   "cell_type": "markdown",
   "id": "ada4b56d-bf7e-41e8-a12d-222cac9e636b",
   "metadata": {},
   "source": [
    "**RESULTS:**\n",
    "> The dataset is clean, with all features in the right datatype, no null values etc.\n",
    "\n",
    "**SOME INSIGHT:**\n",
    "- `creatinine_phosphokinase:` Although majority of the people have lower values(less than 500), extremely high values (over 500 with few apprroaching 8000) are also present.\n",
    "- `age:` People are between the age of 40 to 95\n",
    "- `serum sodium:` Majority of people have values of 130 to 140, with possible outliner having values less than 120."
   ]
  },
  {
   "cell_type": "markdown",
   "id": "d85e0822-4cad-4f30-9a79-695a450038f0",
   "metadata": {},
   "source": [
    "### Checking for Data Imbalance"
   ]
  },
  {
   "cell_type": "code",
   "execution_count": 6,
   "id": "0897c739-ea47-4fb3-8bcb-c9808565fa74",
   "metadata": {},
   "outputs": [
    {
     "data": {
      "image/png": "[encoded data removed]",
      "text/plain": [
       "<Figure size 432x288 with 1 Axes>"
      ]
     },
     "metadata": {},
     "output_type": "display_data"
    }
   ],
   "source": [
    "df['DEATH_EVENT'].value_counts().plot.bar(color=['green', 'red']);\n",
    "plt.xticks(rotation=0);"
   ]
  },
  {
   "cell_type": "markdown",
   "id": "87c0082e-c78d-4fab-b084-d5fc7db2152e",
   "metadata": {},
   "source": [
    "**INSIGHT:** The dataset is not very imbalanced and can be considered as an ordinary binary classification task"
   ]
  },
  {
   "cell_type": "markdown",
   "id": "358da012-8839-4b69-b76f-fda0a3a42652",
   "metadata": {},
   "source": [
    "## Model Building\n",
    "##### Import necessary libraries"
   ]
  },
  {
   "cell_type": "code",
   "execution_count": 7,
   "id": "716c340f-ce87-4eed-9a18-653e0ecd38ca",
   "metadata": {},
   "outputs": [],
   "source": [
    "from sklearn.model_selection import train_test_split\n",
    "from sklearn.linear_model import LogisticRegression\n",
    "from sklearn.ensemble import RandomForestClassifier, ExtraTreesClassifier\n",
    "from xgboost import XGBClassifier\n",
    "from lightgbm import LGBMClassifier\n",
    "from sklearn.svm import SVC\n",
    "from sklearn.model_selection import GridSearchCV\n",
    "from sklearn.preprocessing import MinMaxScaler\n",
    "from sklearn.metrics import classification_report, accuracy_score, precision_recall_fscore_support, \\\n",
    "confusion_matrix, roc_auc_score"
   ]
  },
  {
   "cell_type": "code",
   "execution_count": 8,
   "id": "7a4ef03b-8054-4e15-bf7f-332e6374428c",
   "metadata": {},
   "outputs": [],
   "source": [
    "rs = 123"
   ]
  },
  {
   "cell_type": "markdown",
   "id": "50ac0851-3b37-42b2-b0e5-1b4c22ba0553",
   "metadata": {},
   "source": [
    "##### Split the data into features(X) and Target(Y)"
   ]
  },
  {
   "cell_type": "code",
   "execution_count": 9,
   "id": "11ec3cee-b253-4a62-a240-de7cfd6643c9",
   "metadata": {},
   "outputs": [],
   "source": [
    "X = df.loc[ : , df.columns != 'DEATH_EVENT']\n",
    "y = df['DEATH_EVENT']"
   ]
  },
  {
   "cell_type": "markdown",
   "id": "cd329f5f-2bfe-4c2f-aa9d-83c48d16d8f2",
   "metadata": {},
   "source": [
    "##### Split the data into Training and Testing set"
   ]
  },
  {
   "cell_type": "code",
   "execution_count": 10,
   "id": "e6dd673a-2ec4-4c7d-b14f-067d8d3a61e2",
   "metadata": {},
   "outputs": [],
   "source": [
    "X_train, X_test, y_train, y_test = train_test_split(X, y, test_size=0.2, stratify=y, random_state = rs)"
   ]
  },
  {
   "cell_type": "markdown",
   "id": "f657acf1-0289-4691-8f28-131c729a307d",
   "metadata": {},
   "source": [
    "#### Define Grid Search for models"
   ]
  },
  {
   "cell_type": "code",
   "execution_count": 11,
   "id": "ef05c6ef-df78-4de5-b7c6-c68518828ed9",
   "metadata": {},
   "outputs": [],
   "source": [
    "rs = 123\n",
    "# Grid search hyperparameters for a Logistic Regression model\n",
    "def grid_search_lr(X_train, y_train):\n",
    "    params_grid = {\n",
    "    'class_weight': [{0:0.05, 1:0.95}, {0:0.1, 1:0.9}, {0:0.2, 1:0.8}]\n",
    "    }\n",
    "    lr_model = LogisticRegression(random_state=rs, max_iter=1000)\n",
    "    grid_search = GridSearchCV(estimator = lr_model, \n",
    "                           param_grid = params_grid, \n",
    "                           scoring='f1',\n",
    "                           cv = 5, verbose = 1)\n",
    "    grid_search.fit(X_train, y_train)\n",
    "    best_params = grid_search.best_params_\n",
    "    return best_params\n",
    "\n",
    "# Grid search hyperparameters for a Random Forest model\n",
    "def grid_search_rf(X_train, y_train):\n",
    "    params_grid = {\n",
    "    'max_depth': [5, 10, 15, 20],\n",
    "    'n_estimators': [25, 50, 100],\n",
    "    'min_samples_split': [2, 5],\n",
    "    'class_weight': [{0:0.1, 1:0.9}, {0:0.2, 1:0.8}, {0:0.3, 1:0.7}]\n",
    "    }\n",
    "    rf_model = RandomForestClassifier(random_state=rs)\n",
    "    grid_search = GridSearchCV(estimator = rf_model, \n",
    "                           param_grid = params_grid, \n",
    "                           scoring='f1',\n",
    "                           cv = 5, verbose = 1)\n",
    "    grid_search.fit(X_train, y_train)\n",
    "    best_params = grid_search.best_params_\n",
    "    return best_params\n",
    "\n",
    "# Grid search hyperparameters for a Extra Trees model\n",
    "def grid_search_ext(X_train, y_train):\n",
    "    params_grid = {\n",
    "    'max_depth': [5, 10, 15, 20],\n",
    "    'n_estimators': [25, 50, 100],\n",
    "    'min_samples_split': [2, 5],\n",
    "    'class_weight': [{0:0.1, 1:0.9}, {0:0.2, 1:0.8}, {0:0.3, 1:0.7}]\n",
    "    }\n",
    "    ext_model = ExtraTreesClassifier(random_state=rs)\n",
    "    grid_search = GridSearchCV(estimator = ext_model, \n",
    "                           param_grid = params_grid, \n",
    "                           scoring='f1',\n",
    "                           cv = 5, verbose = 1)\n",
    "    grid_search.fit(X_train, y_train)\n",
    "    best_params = grid_search.best_params_\n",
    "    return best_params\n",
    "\n",
    "# Grid search hyperparameters for a Support Vector Classifier(SVC) model\n",
    "def grid_search_svc(X_train, y_train):\n",
    "    params_grid = {\n",
    "    'gamma': [0.5, 1, 2, 5, 8, 10],\n",
    "    'C': [1, 5, 10, 20],\n",
    "    'class_weight': [{0:0.1, 1:0.9}, {0:0.2, 1:0.8}, {0:0.3, 1:0.7}]\n",
    "    }\n",
    "    svc_model = SVC(random_state=rs)\n",
    "    grid_search = GridSearchCV(estimator = svc_model, \n",
    "                           param_grid = params_grid, \n",
    "                           scoring='f1',\n",
    "                           cv = 5, verbose = 1)\n",
    "    grid_search.fit(X_train, y_train)\n",
    "    best_params = grid_search.best_params_\n",
    "    return best_params\n",
    "\n",
    "# Grid search hyperparameters for a AdaBoost Classifier model\n",
    "def grid_search_adaB(X_train, y_train):\n",
    "    params_grid = {'learning_rate': [0.1*(n+1) for n in range(10)],\n",
    "                  'n_estimators' : [2*n+1 for n in range(10)],\n",
    "                  'algorithm':['SAMME', 'SAMME.R']} \n",
    "    ada_model = AdaBoostClassifier(random_state=rs)\n",
    "    grid_search = GridSearchCV(estimator = ada_model, \n",
    "                           param_grid = params_grid, \n",
    "                           scoring='f1',\n",
    "                           cv = 5, verbose = 1)\n",
    "    grid_search.fit(X_train, y_train)\n",
    "    best_params = grid_search.best_params_\n",
    "    return best_params\n",
    "\n",
    "# Grid search hyperparameters for a XGB Classifier model\n",
    "def grid_search_xgb(X_train, y_train):\n",
    "    params_grid = {'learning_rate': [0.1*(n+1) for n in range(10)],\n",
    "                   'n_estimators' : [2*n+1 for n in range(10)],\n",
    "                   'gamma': [0.5, 1, 2, 5, 8, 10]} \n",
    "    xgb_model = XGBClassifier(random_state=rs)\n",
    "    grid_search = GridSearchCV(estimator = xgb_model, \n",
    "                           param_grid = params_grid, \n",
    "                           scoring='f1',\n",
    "                           cv = 5, verbose = 1)\n",
    "    grid_search.fit(X_train, y_train)\n",
    "    best_params = grid_search.best_params_\n",
    "    return best_params"
   ]
  },
  {
   "cell_type": "code",
   "execution_count": 12,
   "id": "295d9e47-0416-47ca-9336-f215d45e9c6d",
   "metadata": {},
   "outputs": [],
   "source": [
    "# Define evaluation\n",
    "def evaluate(y_test, y_pred, title):\n",
    "    # Calculate the precision, recall, f5 given the y_test and predictions\n",
    "    # Note that we use beta=5 which means we think the cost of positive class is 5 times of negative class\n",
    "    # You could try other beta values yourself\n",
    "    accuracy = accuracy_score(y_test, y_pred)\n",
    "    precision, recall, fbeta, support = precision_recall_fscore_support(y_test, y_pred, beta=5, pos_label=1, average='binary')\n",
    "    auc = roc_auc_score(y_test, y_pred)\n",
    "\n",
    "    # Store results to dictionary\n",
    "    result = {}\n",
    "    result['accuracy'] = round(accuracy, 4)\n",
    "    result['precision'] = round(precision, 4)\n",
    "    result['recall'] = round(recall, 4)\n",
    "    result['fscore'] = round(fbeta, 4)\n",
    "    result['auc'] = round(auc, 4)\n",
    "\n",
    "    # Plotting confusion Matrix\n",
    "    cm = confusion_matrix(y_test, y_pred)\n",
    "    ax = sns.heatmap(cm, annot=True, fmt='d')\n",
    "    plt.yticks(rotation=0);\n",
    "    plt.title(title);\n",
    "    \n",
    "    return result"
   ]
  },
  {
   "cell_type": "markdown",
   "id": "f677b0bf-6294-4994-9dab-d85f4d2e0f19",
   "metadata": {
    "tags": []
   },
   "source": [
    "### Logistic Regression\n",
    "##### Normal Logistic regression"
   ]
  },
  {
   "cell_type": "code",
   "execution_count": 13,
   "id": "0e0fbd02-17d4-44e3-b23d-db39000559fb",
   "metadata": {},
   "outputs": [
    {
     "data": {
      "text/plain": [
       "{'accuracy': 0.8667,\n",
       " 'precision': 0.9231,\n",
       " 'recall': 0.6316,\n",
       " 'fscore': 0.6393,\n",
       " 'auc': 0.8036}"
      ]
     },
     "execution_count": 13,
     "metadata": {},
     "output_type": "execute_result"
    },
    {
     "data": {
      "image/png": "[encoded data removed]",
      "text/plain": [
       "<Figure size 432x288 with 2 Axes>"
      ]
     },
     "metadata": {},
     "output_type": "display_data"
    }
   ],
   "source": [
    "# Define a logistic regression with weight\n",
    "lr = LogisticRegression(random_state=rs, max_iter = 1000)\n",
    "\n",
    "# Train the model\n",
    "lr.fit(X_train, y_train)\n",
    "# Make predictions on the test dataset\n",
    "y_pred = lr.predict(X_test)\n",
    "\n",
    "lr_res = evaluate(y_test, y_pred, 'Log Regression: Normal')\n",
    "lr_res"
   ]
  },
  {
   "cell_type": "markdown",
   "id": "682d6af7-269f-4821-9aae-8638e4d2ab2d",
   "metadata": {},
   "source": [
    "##### Class Reweighting (Optimized Logistic Regression)\n",
    "> Here we fine-tune Hyperparameters using grid_search to give a better F1 score."
   ]
  },
  {
   "cell_type": "code",
   "execution_count": 14,
   "id": "5efd2bb4-0e19-48bb-9009-9ec864e3bb18",
   "metadata": {},
   "outputs": [
    {
     "name": "stdout",
     "output_type": "stream",
     "text": [
      "Fitting 5 folds for each of 3 candidates, totalling 15 fits\n"
     ]
    }
   ],
   "source": [
    "# Applying Grid Serch\n",
    "best_param = grid_search_lr(X_train, y_train)\n",
    "class_weight = best_param['class_weight']"
   ]
  },
  {
   "cell_type": "code",
   "execution_count": 15,
   "id": "fed32ed8-2d57-4ac5-aa14-b64de7d0a49e",
   "metadata": {},
   "outputs": [
    {
     "data": {
      "text/plain": [
       "{'accuracy': 0.7833,\n",
       " 'precision': 0.6071,\n",
       " 'recall': 0.8947,\n",
       " 'fscore': 0.8787,\n",
       " 'auc': 0.8132}"
      ]
     },
     "execution_count": 15,
     "metadata": {},
     "output_type": "execute_result"
    },
    {
     "data": {
      "image/png": "[encoded data removed]",
      "text/plain": [
       "<Figure size 432x288 with 2 Axes>"
      ]
     },
     "metadata": {},
     "output_type": "display_data"
    }
   ],
   "source": [
    "# Define a logistic regression with weight\n",
    "lr = LogisticRegression(random_state=rs, class_weight = class_weight,\n",
    "                              max_iter = 1000)\n",
    "\n",
    "# Train the model\n",
    "lr.fit(X_train, y_train)\n",
    "# Make predictions on the test dataset\n",
    "y_pred = lr.predict(X_test)\n",
    "\n",
    "lr_optimized = evaluate(y_test, y_pred, 'Log Regression: Optimized')\n",
    "lr_optimized"
   ]
  },
  {
   "cell_type": "markdown",
   "id": "1891bc3c-f6d8-4fdf-8431-f2d57f172f18",
   "metadata": {},
   "source": [
    "### Random Forest Classifier"
   ]
  },
  {
   "cell_type": "markdown",
   "id": "c120d6a5-020e-4503-9e4d-cef624e40987",
   "metadata": {},
   "source": [
    "##### Normal Random Forest"
   ]
  },
  {
   "cell_type": "code",
   "execution_count": 16,
   "id": "471019e5-b392-4521-9e3e-705b933090c1",
   "metadata": {},
   "outputs": [
    {
     "data": {
      "text/plain": [
       "{'accuracy': 0.9167,\n",
       " 'precision': 0.8889,\n",
       " 'recall': 0.8421,\n",
       " 'fscore': 0.8438,\n",
       " 'auc': 0.8967}"
      ]
     },
     "execution_count": 16,
     "metadata": {},
     "output_type": "execute_result"
    },
    {
     "data": {
      "image/png": "[encoded data removed]",
      "text/plain": [
       "<Figure size 432x288 with 2 Axes>"
      ]
     },
     "metadata": {},
     "output_type": "display_data"
    }
   ],
   "source": [
    "# Define a logistic regression with weight\n",
    "rf = RandomForestClassifier(random_state=rs)\n",
    "\n",
    "# Train the model\n",
    "rf.fit(X_train, y_train)\n",
    "# Make predictions on the test dataset\n",
    "y_pred = rf.predict(X_test)\n",
    "\n",
    "rf_res = evaluate(y_test, y_pred, 'Random Forest: Normal')\n",
    "rf_res"
   ]
  },
  {
   "cell_type": "markdown",
   "id": "f75d965d-434e-4330-bb5a-66928c079811",
   "metadata": {},
   "source": [
    "##### Optimized Random Forest: Class Reweighting\n",
    "> Here we fine-tune Hyperparameters using grid_search to give a better F1 score."
   ]
  },
  {
   "cell_type": "code",
   "execution_count": 17,
   "id": "7ebe3d00-a111-416a-b802-59db8fcd8dfa",
   "metadata": {},
   "outputs": [
    {
     "name": "stdout",
     "output_type": "stream",
     "text": [
      "Fitting 5 folds for each of 72 candidates, totalling 360 fits\n"
     ]
    }
   ],
   "source": [
    "best_param = grid_search_rf(X_train, y_train)\n",
    "class_weight = best_param['class_weight']\n",
    "max_depth = best_param['max_depth']\n",
    "min_samples_split = best_param['min_samples_split']\n",
    "n_estimators = best_param['n_estimators']"
   ]
  },
  {
   "cell_type": "code",
   "execution_count": 18,
   "id": "78f316e7-4e41-4f27-b37a-f91686b3b2d6",
   "metadata": {},
   "outputs": [
    {
     "data": {
      "text/plain": [
       "{'accuracy': 0.8833,\n",
       " 'precision': 0.7727,\n",
       " 'recall': 0.8947,\n",
       " 'fscore': 0.8893,\n",
       " 'auc': 0.8864}"
      ]
     },
     "execution_count": 18,
     "metadata": {},
     "output_type": "execute_result"
    },
    {
     "data": {
      "image/png": "[encoded data removed]",
      "text/plain": [
       "<Figure size 432x288 with 2 Axes>"
      ]
     },
     "metadata": {},
     "output_type": "display_data"
    }
   ],
   "source": [
    "# Define a Random Forest with weight\n",
    "rf = RandomForestClassifier(random_state=rs, class_weight=class_weight,\n",
    "                           max_depth=max_depth, min_samples_split=min_samples_split,\n",
    "                           n_estimators=n_estimators)\n",
    "\n",
    "# Train the model\n",
    "rf.fit(X_train, y_train)\n",
    "# Make predictions on the test dataset\n",
    "y_pred = rf.predict(X_test)\n",
    "\n",
    "rf_optimized = evaluate(y_test, y_pred, 'Random Forest: Optimized')\n",
    "rf_optimized"
   ]
  },
  {
   "cell_type": "markdown",
   "id": "825d5731-dcd6-4971-8718-8dea1456a4b2",
   "metadata": {},
   "source": [
    "### Extra Trees Classifier"
   ]
  },
  {
   "cell_type": "markdown",
   "id": "9ae042ed-2149-4edc-b379-37e4db30d599",
   "metadata": {},
   "source": [
    "##### Normal Extra Trees"
   ]
  },
  {
   "cell_type": "code",
   "execution_count": 19,
   "id": "a65a5a8e-6fb6-4264-b31b-00c00a29482b",
   "metadata": {},
   "outputs": [
    {
     "data": {
      "text/plain": [
       "{'accuracy': 0.85,\n",
       " 'precision': 0.8571,\n",
       " 'recall': 0.6316,\n",
       " 'fscore': 0.638,\n",
       " 'auc': 0.7914}"
      ]
     },
     "execution_count": 19,
     "metadata": {},
     "output_type": "execute_result"
    },
    {
     "data": {
      "image/png": "[encoded data removed]",
      "text/plain": [
       "<Figure size 432x288 with 2 Axes>"
      ]
     },
     "metadata": {},
     "output_type": "display_data"
    }
   ],
   "source": [
    "# Define ExtraTrees with weight\n",
    "ext = ExtraTreesClassifier(random_state = rs)\n",
    "\n",
    "# Train the model\n",
    "ext.fit(X_train, y_train)\n",
    "# Make predictions on the test dataset\n",
    "y_pred = ext.predict(X_test)\n",
    "\n",
    "ext_res = evaluate(y_test, y_pred, 'Extra Trees: Normal')\n",
    "ext_res"
   ]
  },
  {
   "cell_type": "markdown",
   "id": "3230abff-6ea4-4c0a-9313-82afd0eb9759",
   "metadata": {},
   "source": [
    "##### Extra Trees Optimized: Class Reweighting\n",
    "> Here we fine-tune Hyperparameters using grid_search to give a better F1 score."
   ]
  },
  {
   "cell_type": "code",
   "execution_count": 20,
   "id": "691a6393-a90a-4fd0-8b21-1223336949f9",
   "metadata": {},
   "outputs": [
    {
     "name": "stdout",
     "output_type": "stream",
     "text": [
      "Fitting 5 folds for each of 72 candidates, totalling 360 fits\n"
     ]
    }
   ],
   "source": [
    "best_param = grid_search_ext(X_train, y_train)\n",
    "class_weight = best_param['class_weight']\n",
    "max_depth = best_param['max_depth']\n",
    "min_samples_split = best_param['min_samples_split']\n",
    "n_estimators = best_param['n_estimators']"
   ]
  },
  {
   "cell_type": "code",
   "execution_count": 21,
   "id": "7292dff1-99f0-4ea9-ab1b-dd15c84d988b",
   "metadata": {},
   "outputs": [
    {
     "data": {
      "text/plain": [
       "{'accuracy': 0.8667,\n",
       " 'precision': 0.7895,\n",
       " 'recall': 0.7895,\n",
       " 'fscore': 0.7895,\n",
       " 'auc': 0.846}"
      ]
     },
     "execution_count": 21,
     "metadata": {},
     "output_type": "execute_result"
    },
    {
     "data": {
      "image/png": "[encoded data removed]",
      "text/plain": [
       "<Figure size 432x288 with 2 Axes>"
      ]
     },
     "metadata": {},
     "output_type": "display_data"
    }
   ],
   "source": [
    "# Define a EXtra Tree with weight\n",
    "ext = ExtraTreesClassifier(random_state=rs, class_weight=class_weight,\n",
    "                           max_depth=max_depth, min_samples_split=min_samples_split,\n",
    "                           n_estimators=n_estimators)\n",
    "\n",
    "# Train the model\n",
    "ext.fit(X_train, y_train)\n",
    "# Make predictions on the test dataset\n",
    "y_pred = ext.predict(X_test)\n",
    "\n",
    "ext_optimized = evaluate(y_test, y_pred, 'ExtraTrees: Optimized')\n",
    "ext_optimized"
   ]
  },
  {
   "cell_type": "markdown",
   "id": "2ddb6be3-84d1-4736-99c1-86e4f5538a91",
   "metadata": {},
   "source": [
    "### Support Vector Classifier (SVC)"
   ]
  },
  {
   "cell_type": "markdown",
   "id": "a2e41313-9313-4a9d-a4ee-cca4ccad836a",
   "metadata": {},
   "source": [
    "##### Normal SVC"
   ]
  },
  {
   "cell_type": "code",
   "execution_count": 22,
   "id": "2e77b7d3-12dc-41f7-a196-f90fa0518323",
   "metadata": {},
   "outputs": [],
   "source": [
    "# Scaling Data\n",
    "scaler = MinMaxScaler()\n",
    "Xscaled = scaler.fit_transform(X)\n",
    "# Split scaled data\n",
    "Xsc_train, Xsc_test, y_train, y_test = train_test_split(Xscaled, y, test_size=0.2, stratify=y, random_state = rs)"
   ]
  },
  {
   "cell_type": "code",
   "execution_count": 23,
   "id": "2a2678ac-f628-456e-bd97-5212e1a27f93",
   "metadata": {},
   "outputs": [
    {
     "data": {
      "text/plain": [
       "{'accuracy': 0.75,\n",
       " 'precision': 0.7,\n",
       " 'recall': 0.3684,\n",
       " 'fscore': 0.3753,\n",
       " 'auc': 0.6476}"
      ]
     },
     "execution_count": 23,
     "metadata": {},
     "output_type": "execute_result"
    },
    {
     "data": {
      "image/png": "[encoded data removed]",
      "text/plain": [
       "<Figure size 432x288 with 2 Axes>"
      ]
     },
     "metadata": {},
     "output_type": "display_data"
    }
   ],
   "source": [
    "# Define Support Vector Classifier with weight\n",
    "svc = SVC(random_state = rs)\n",
    "\n",
    "# Train the model\n",
    "svc.fit(Xsc_train, y_train)\n",
    "# Make predictions on the test dataset\n",
    "y_pred = svc.predict(Xsc_test)\n",
    "\n",
    "svc_res = evaluate(y_test, y_pred, 'SVC: Normal')\n",
    "svc_res"
   ]
  },
  {
   "cell_type": "markdown",
   "id": "cb332645-1fa4-4e78-b8f3-b5b43e047d6c",
   "metadata": {},
   "source": [
    "##### Optimized SVC: Class Reweighting\n",
    "> Here we fine-tune Hyperparameters using grid_search to give a better F1 score."
   ]
  },
  {
   "cell_type": "code",
   "execution_count": 24,
   "id": "bc36d86b-be2f-46e4-a6ec-ce569e7ee1c1",
   "metadata": {},
   "outputs": [
    {
     "name": "stdout",
     "output_type": "stream",
     "text": [
      "Fitting 5 folds for each of 72 candidates, totalling 360 fits\n"
     ]
    }
   ],
   "source": [
    "best_param = grid_search_svc(Xsc_train, y_train)\n",
    "class_weight = best_param['class_weight']\n",
    "gamma = best_param['gamma']\n",
    "C = best_param['C']"
   ]
  },
  {
   "cell_type": "code",
   "execution_count": 25,
   "id": "047c948a-f704-4f28-b8c9-f851788f0f93",
   "metadata": {},
   "outputs": [
    {
     "data": {
      "text/plain": [
       "{'accuracy': 0.7167,\n",
       " 'precision': 0.5357,\n",
       " 'recall': 0.7895,\n",
       " 'fscore': 0.7753,\n",
       " 'auc': 0.7362}"
      ]
     },
     "execution_count": 25,
     "metadata": {},
     "output_type": "execute_result"
    },
    {
     "data": {
      "image/png": "[encoded data removed]",
      "text/plain": [
       "<Figure size 432x288 with 2 Axes>"
      ]
     },
     "metadata": {},
     "output_type": "display_data"
    }
   ],
   "source": [
    "# Define SVC with weight\n",
    "svc = SVC(random_state = rs,\n",
    "          class_weight=class_weight,\n",
    "          C=C, gamma=gamma)\n",
    "\n",
    "# Train the model\n",
    "svc.fit(Xsc_train, y_train)\n",
    "# Make predictions on the test dataset\n",
    "y_pred = svc.predict(Xsc_test)\n",
    "\n",
    "svc_optimized = evaluate(y_test, y_pred, 'SVC: optimized')\n",
    "svc_optimized"
   ]
  },
  {
   "cell_type": "markdown",
   "id": "1d109d3a-5b2c-4a2d-94b1-9bec45c06a88",
   "metadata": {},
   "source": [
    "### AdaBoost Classifier\n",
    "##### Normal AdaBoost"
   ]
  },
  {
   "cell_type": "code",
   "execution_count": 26,
   "id": "20ced666-aef8-43c5-a983-bc5919872ce6",
   "metadata": {},
   "outputs": [],
   "source": [
    "from sklearn.ensemble import AdaBoostClassifier"
   ]
  },
  {
   "cell_type": "code",
   "execution_count": 27,
   "id": "ba87a316-afde-4dea-ac13-482143a58944",
   "metadata": {},
   "outputs": [
    {
     "data": {
      "text/plain": [
       "{'accuracy': 0.85,\n",
       " 'precision': 0.7778,\n",
       " 'recall': 0.7368,\n",
       " 'fscore': 0.7383,\n",
       " 'auc': 0.8196}"
      ]
     },
     "execution_count": 27,
     "metadata": {},
     "output_type": "execute_result"
    },
    {
     "data": {
      "image/png": "[encoded data removed]",
      "text/plain": [
       "<Figure size 432x288 with 2 Axes>"
      ]
     },
     "metadata": {},
     "output_type": "display_data"
    }
   ],
   "source": [
    "# Define Classifier\n",
    "adab = AdaBoostClassifier(random_state=rs)\n",
    "\n",
    "# Train Classifier\n",
    "adab.fit(X_train, y_train)\n",
    "# Make Predictions\n",
    "y_pred = adab.predict(X_test)\n",
    "# Evaluate model\n",
    "ada_res = evaluate(y_test, y_pred, 'AdaBoost: Norm')\n",
    "ada_res"
   ]
  },
  {
   "cell_type": "markdown",
   "id": "f2db66ef-4e33-4411-9bf1-4e681afaeac3",
   "metadata": {},
   "source": [
    "##### Optimized AdaBoost\n",
    "> Here we fine-tune Hyperparameters using grid_search to give a better F1 score."
   ]
  },
  {
   "cell_type": "code",
   "execution_count": 28,
   "id": "1a14d04d-b118-4a43-95a2-486214501b8c",
   "metadata": {},
   "outputs": [
    {
     "name": "stdout",
     "output_type": "stream",
     "text": [
      "Fitting 5 folds for each of 200 candidates, totalling 1000 fits\n"
     ]
    }
   ],
   "source": [
    "best_param = grid_search_adaB(X_train, y_train)\n",
    "learning_rate = best_param['learning_rate']\n",
    "n_estimators = best_param['n_estimators']\n",
    "algorithm = best_param['algorithm']"
   ]
  },
  {
   "cell_type": "code",
   "execution_count": 29,
   "id": "eac9e41f-d972-489b-a2ad-85e566cc2b35",
   "metadata": {},
   "outputs": [
    {
     "data": {
      "text/plain": [
       "{'accuracy': 0.9167,\n",
       " 'precision': 0.9375,\n",
       " 'recall': 0.7895,\n",
       " 'fscore': 0.7943,\n",
       " 'auc': 0.8825}"
      ]
     },
     "execution_count": 29,
     "metadata": {},
     "output_type": "execute_result"
    },
    {
     "data": {
      "image/png": "[encoded data removed]",
      "text/plain": [
       "<Figure size 432x288 with 2 Axes>"
      ]
     },
     "metadata": {},
     "output_type": "display_data"
    }
   ],
   "source": [
    "# Define a AdaBoost Classifier Grid searched\n",
    "adab = AdaBoostClassifier(random_state=rs,\n",
    "                         learning_rate=learning_rate,\n",
    "                         n_estimators=n_estimators,\n",
    "                         algorithm=algorithm)\n",
    "\n",
    "# Train the model\n",
    "adab.fit(X_train, y_train)\n",
    "# Make predictions on the test dataset\n",
    "y_pred = adab.predict(X_test)\n",
    "\n",
    "ada_optimized = evaluate(y_test, y_pred, 'AdaBoost: Optimized')\n",
    "ada_optimized"
   ]
  },
  {
   "cell_type": "markdown",
   "id": "675828f8-80df-4df5-8ca7-a2226612ff44",
   "metadata": {},
   "source": [
    "### XGBoost Classifier\n",
    "##### Normal AdaBoost"
   ]
  },
  {
   "cell_type": "code",
   "execution_count": 30,
   "id": "6ef9d8df-a441-4bc1-aeb6-f9c76c0d4474",
   "metadata": {},
   "outputs": [
    {
     "data": {
      "text/plain": [
       "{'accuracy': 0.8667,\n",
       " 'precision': 0.8667,\n",
       " 'recall': 0.6842,\n",
       " 'fscore': 0.6898,\n",
       " 'auc': 0.8177}"
      ]
     },
     "execution_count": 30,
     "metadata": {},
     "output_type": "execute_result"
    },
    {
     "data": {
      "image/png": "[encoded data removed]",
      "text/plain": [
       "<Figure size 432x288 with 2 Axes>"
      ]
     },
     "metadata": {},
     "output_type": "display_data"
    }
   ],
   "source": [
    "# Instantiate model\n",
    "xgb = XGBClassifier(random_state = rs)\n",
    "\n",
    "# Fit on training set\n",
    "xgb.fit(X_train, y_train)\n",
    "\n",
    "# Make Predict\n",
    "y_pred = xgb.predict(X_test)\n",
    "\n",
    "xgb_res = evaluate(y_test, y_pred, 'XGBoost: Normal')\n",
    "xgb_res"
   ]
  },
  {
   "cell_type": "markdown",
   "id": "2d01e46f-bc8d-4f87-a6b6-4e7663c007f9",
   "metadata": {
    "tags": []
   },
   "source": [
    "##### Optimal XGBoost\n",
    "> Here we fine-tune Hyperparameters using grid_search to give a better F1 score."
   ]
  },
  {
   "cell_type": "code",
   "execution_count": 31,
   "id": "9388be70-f0eb-4cf6-a5cf-5db47ab6b325",
   "metadata": {},
   "outputs": [
    {
     "name": "stdout",
     "output_type": "stream",
     "text": [
      "Fitting 5 folds for each of 600 candidates, totalling 3000 fits\n"
     ]
    }
   ],
   "source": [
    "best_param = grid_search_xgb(X_train, y_train)\n",
    "learning_rate = best_param['learning_rate']\n",
    "n_estimators = best_param['n_estimators']\n",
    "gamma = best_param['gamma']"
   ]
  },
  {
   "cell_type": "code",
   "execution_count": 39,
   "id": "99bf81cb-594b-480a-a75e-798c00fa74c0",
   "metadata": {},
   "outputs": [
    {
     "data": {
      "text/plain": [
       "{'accuracy': 0.9,\n",
       " 'precision': 0.8824,\n",
       " 'recall': 0.7895,\n",
       " 'fscore': 0.7927,\n",
       " 'auc': 0.8703}"
      ]
     },
     "execution_count": 39,
     "metadata": {},
     "output_type": "execute_result"
    },
    {
     "data": {
      "image/png": "[encoded data removed]",
      "text/plain": [
       "<Figure size 432x288 with 2 Axes>"
      ]
     },
     "metadata": {},
     "output_type": "display_data"
    }
   ],
   "source": [
    "# Define a XGB Classifier Grid searched\n",
    "xgb = XGBClassifier(random_state=rs,\n",
    "                         learning_rate=learning_rate,\n",
    "                         n_estimators=n_estimators,\n",
    "                         gamma=gamma)\n",
    "\n",
    "# Train the model\n",
    "xgb.fit(X_train, y_train)\n",
    "# Make predictions on the test dataset\n",
    "y_pred = xgb.predict(X_test)\n",
    "\n",
    "xgb_optimized = evaluate(y_test, y_pred, 'XGBoost: Optimized')\n",
    "xgb_optimized"
   ]
  },
  {
   "cell_type": "markdown",
   "id": "6480823a-9bf9-4fbb-a516-b4af9c6880f6",
   "metadata": {},
   "source": [
    "### Voting Classifier"
   ]
  },
  {
   "cell_type": "code",
   "execution_count": 33,
   "id": "07ac2318-abb7-49ff-a0bd-e16186164647",
   "metadata": {},
   "outputs": [],
   "source": [
    "from sklearn.ensemble import VotingClassifier\n",
    "estimator = [('RandomForest', rf), ('AdaBoost', adab)]"
   ]
  },
  {
   "cell_type": "code",
   "execution_count": 34,
   "id": "7a6093f3-977c-49f0-96de-1a52819b30e4",
   "metadata": {},
   "outputs": [
    {
     "data": {
      "text/plain": [
       "{'accuracy': 0.9,\n",
       " 'precision': 0.8095,\n",
       " 'recall': 0.8947,\n",
       " 'fscore': 0.8911,\n",
       " 'auc': 0.8986}"
      ]
     },
     "execution_count": 34,
     "metadata": {},
     "output_type": "execute_result"
    },
    {
     "data": {
      "image/png": "[encoded data removed]",
      "text/plain": [
       "<Figure size 432x288 with 2 Axes>"
      ]
     },
     "metadata": {},
     "output_type": "display_data"
    }
   ],
   "source": [
    "vc = VotingClassifier(estimator, voting='soft')\n",
    "vc= vc.fit(X_train, y_train)\n",
    "y_pred = vc.predict(X_test)\n",
    "\n",
    "vc_res = evaluate(y_test, y_pred, 'VotingClassifier')\n",
    "vc_res"
   ]
  },
  {
   "cell_type": "markdown",
   "id": "479594e6-e70a-493d-a802-7e30313661c2",
   "metadata": {
    "tags": []
   },
   "source": [
    "## Final Result\n"
   ]
  },
  {
   "cell_type": "code",
   "execution_count": 35,
   "id": "d3359033-435b-4bb1-bb92-94e0d0f4e26d",
   "metadata": {},
   "outputs": [],
   "source": [
    "list = [lr_optimized.values(), rf_optimized.values(), ext_optimized.values(), svc_optimized.values(), \n",
    "ada_optimized.values(), xgb_optimized.values(), vc_res.values()]"
   ]
  },
  {
   "cell_type": "code",
   "execution_count": 36,
   "id": "1efa4eb7-0490-493c-9a79-34650e869774",
   "metadata": {},
   "outputs": [],
   "source": [
    "columns = xgb_optimized.keys()"
   ]
  },
  {
   "cell_type": "code",
   "execution_count": 37,
   "id": "ba8d5a0a-b35d-4cc7-a7d2-918c174847a8",
   "metadata": {},
   "outputs": [],
   "source": [
    "index = ['LogReg', 'RandomForest', 'ExtraTrees', 'SVC', \n",
    "         'AdaBoost', 'XGBoost', 'VotingCLF']"
   ]
  },
  {
   "cell_type": "code",
   "execution_count": 38,
   "id": "d441cfc7-e9ea-4238-bf11-73b32e90f57e",
   "metadata": {},
   "outputs": [
    {
     "data": {
      "text/html": [
       "<div>\n",
       "<style scoped>\n",
       "    .dataframe tbody tr th:only-of-type {\n",
       "        vertical-align: middle;\n",
       "    }\n",
       "\n",
       "    .dataframe tbody tr th {\n",
       "        vertical-align: top;\n",
       "    }\n",
       "\n",
       "    .dataframe thead th {\n",
       "        text-align: right;\n",
       "    }\n",
       "</style>\n",
       "<table border=\"1\" class=\"dataframe\">\n",
       "  <thead>\n",
       "    <tr style=\"text-align: right;\">\n",
       "      <th></th>\n",
       "      <th>accuracy</th>\n",
       "      <th>precision</th>\n",
       "      <th>recall</th>\n",
       "      <th>fscore</th>\n",
       "      <th>auc</th>\n",
       "    </tr>\n",
       "  </thead>\n",
       "  <tbody>\n",
       "    <tr>\n",
       "      <th>VotingCLF</th>\n",
       "      <td>0.9000</td>\n",
       "      <td>0.8095</td>\n",
       "      <td>0.8947</td>\n",
       "      <td>0.8911</td>\n",
       "      <td>0.8986</td>\n",
       "    </tr>\n",
       "    <tr>\n",
       "      <th>RandomForest</th>\n",
       "      <td>0.8833</td>\n",
       "      <td>0.7727</td>\n",
       "      <td>0.8947</td>\n",
       "      <td>0.8893</td>\n",
       "      <td>0.8864</td>\n",
       "    </tr>\n",
       "    <tr>\n",
       "      <th>LogReg</th>\n",
       "      <td>0.7833</td>\n",
       "      <td>0.6071</td>\n",
       "      <td>0.8947</td>\n",
       "      <td>0.8787</td>\n",
       "      <td>0.8132</td>\n",
       "    </tr>\n",
       "    <tr>\n",
       "      <th>AdaBoost</th>\n",
       "      <td>0.9167</td>\n",
       "      <td>0.9375</td>\n",
       "      <td>0.7895</td>\n",
       "      <td>0.7943</td>\n",
       "      <td>0.8825</td>\n",
       "    </tr>\n",
       "    <tr>\n",
       "      <th>XGBoost</th>\n",
       "      <td>0.9000</td>\n",
       "      <td>0.8824</td>\n",
       "      <td>0.7895</td>\n",
       "      <td>0.7927</td>\n",
       "      <td>0.8703</td>\n",
       "    </tr>\n",
       "    <tr>\n",
       "      <th>ExtraTrees</th>\n",
       "      <td>0.8667</td>\n",
       "      <td>0.7895</td>\n",
       "      <td>0.7895</td>\n",
       "      <td>0.7895</td>\n",
       "      <td>0.8460</td>\n",
       "    </tr>\n",
       "    <tr>\n",
       "      <th>SVC</th>\n",
       "      <td>0.7167</td>\n",
       "      <td>0.5357</td>\n",
       "      <td>0.7895</td>\n",
       "      <td>0.7753</td>\n",
       "      <td>0.7362</td>\n",
       "    </tr>\n",
       "  </tbody>\n",
       "</table>\n",
       "</div>"
      ],
      "text/plain": [
       "              accuracy  precision  recall  fscore     auc\n",
       "VotingCLF       0.9000     0.8095  0.8947  0.8911  0.8986\n",
       "RandomForest    0.8833     0.7727  0.8947  0.8893  0.8864\n",
       "LogReg          0.7833     0.6071  0.8947  0.8787  0.8132\n",
       "AdaBoost        0.9167     0.9375  0.7895  0.7943  0.8825\n",
       "XGBoost         0.9000     0.8824  0.7895  0.7927  0.8703\n",
       "ExtraTrees      0.8667     0.7895  0.7895  0.7895  0.8460\n",
       "SVC             0.7167     0.5357  0.7895  0.7753  0.7362"
      ]
     },
     "execution_count": 38,
     "metadata": {},
     "output_type": "execute_result"
    }
   ],
   "source": [
    "df = pd.DataFrame(list, columns =columns, index=index)\n",
    "df.sort_values(by='fscore', ascending=False)"
   ]
  },
  {
   "cell_type": "markdown",
   "id": "f9a26094-46c7-41a5-95c7-20b5d134be3b",
   "metadata": {},
   "source": [
    "From the above, It is clear that the **`Voting Classifier`** is the Best Choice for predicting Heart Failure.\n",
    "- **Fscore:** 0.89\n",
    "- **Precision:** 0.81\n",
    "- **Recall:** 0.89\n",
    "- **Accuracy:** 0.90"
   ]
  },
  {
   "cell_type": "code",
   "execution_count": null,
   "id": "4f9e93cb-3892-4f1b-96e8-7ecbab85a96d",
   "metadata": {},
   "outputs": [],
   "source": []
  }
 ],
 "metadata": {
  "kernelspec": {
   "display_name": "Python 3 (ipykernel)",
   "language": "python",
   "name": "python3"
  },
  "language_info": {
   "codemirror_mode": {
    "name": "ipython",
    "version": 3
   },
   "file_extension": ".py",
   "mimetype": "text/x-python",
   "name": "python",
   "nbconvert_exporter": "python",
   "pygments_lexer": "ipython3",
   "version": "3.9.12"
  }
 },
 "nbformat": 4,
 "nbformat_minor": 5
}
